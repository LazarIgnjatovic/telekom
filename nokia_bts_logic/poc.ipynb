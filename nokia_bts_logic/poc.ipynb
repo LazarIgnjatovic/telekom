{
 "cells": [
  {
   "cell_type": "code",
   "execution_count": 1,
   "metadata": {},
   "outputs": [],
   "source": [
    "import tkinter as tk\n",
    "import logic as l\n",
    "from tkinter.filedialog import askopenfilename, asksaveasfilename\n",
    "from tkinter.messagebox import showinfo"
   ]
  },
  {
   "cell_type": "code",
   "execution_count": 2,
   "metadata": {},
   "outputs": [],
   "source": [
    "class View(tk.Tk):\n",
    "    def __init__(self) -> None:\n",
    "        super().__init__()\n",
    "\n",
    "        self.geometry('400x400')\n",
    "        self.title(\"Nokia BTS Logic v0.1\")\n",
    "        self.resizable(0,0)\n",
    "\n",
    "        self.columnconfigure(0,weight=1)\n",
    "        self.columnconfigure(1,weight=3)\n",
    "        self.columnconfigure(2,weight=1)\n",
    "\n",
    "        self.station_name_text = tk.StringVar()\n",
    "        self.station_label_text = tk.StringVar()\n",
    "        self.station_location_text = tk.StringVar()\n",
    "        self.bcf_id_text = tk.StringVar()\n",
    "        self.omusig_addr_text = tk.StringVar()\n",
    "        self.lte_path_text = tk.StringVar()\n",
    "        self.ip_path_text = tk.StringVar()\n",
    "        self.template_path_text = tk.StringVar()\n",
    "        self.out_path_text = tk.StringVar()\n",
    "\n",
    "        self.status=tk.StringVar()\n",
    "\n",
    "        self.station_name_label = tk.Label(self, text=\"Station Name:\")\n",
    "        self.station_label_label = tk.Label(self, text=\"Station Label:\")\n",
    "        self.station_location_label = tk.Label(self, text=\"Station Location:\")\n",
    "        self.bcf_id_label = tk.Label(self, text=\"BCF ID:\")\n",
    "        self.omusig_addr_label = tk.Label(self, text=\"Omusig Address:\")\n",
    "        self.lte_path_label = tk.Label(self, text=\"LTE Table:\")\n",
    "        self.lte_button = tk.Button(self, text=\"Choose\", command=self.open_lte)\n",
    "        self.ip_path_label = tk.Label(self, text=\"IP Table:\")\n",
    "        self.ip_button = tk.Button(self, text=\"Choose\", command=self.open_ip)\n",
    "        self.template_path_label = tk.Label(self, text=\"Template Station:\")\n",
    "        self.template_button = tk.Button(self, text=\"Choose\", command=self.open_template)\n",
    "        self.out_path_label = tk.Label(self, text=\"Output path:\")\n",
    "        self.out_button = tk.Button(self, text=\"Choose\", command=self.save_file)\n",
    "        self.status_label = tk.Label(self, textvariable=self.status)\n",
    "        self.submit_button=tk.Button(self, text=\"Apply\", command=self.run)\n",
    "\n",
    "        self.station_name_entry = tk.Entry(self, textvariable=self.station_name_text)\n",
    "        self.station_label_entry = tk.Entry(self, textvariable=self.station_label_text)\n",
    "        self.station_location_entry = tk.Entry(self, textvariable=self.station_location_text)\n",
    "        self.bcf_id_entry = tk.Entry(self, textvariable=self.bcf_id_text)\n",
    "        self.omusig_addr_entry = tk.Entry(self, textvariable=self.omusig_addr_text)\n",
    "        self.lte_path_entry = tk.Entry(self,state='disabled', textvariable=self.lte_path_text)\n",
    "        self.ip_path_entry = tk.Entry(self,state='disabled', textvariable=self.ip_path_text)\n",
    "        self.template_path_entry = tk.Entry(self,state='disabled', textvariable=self.template_path_text)\n",
    "        self.out_path_entry = tk.Entry(self,state='disabled', textvariable=self.out_path_text)\n",
    "\n",
    "        self.station_name_label.grid(column=0,row=1,sticky=tk.E,padx=5,pady=5)\n",
    "        self.station_label_label.grid(column=0,row=2,sticky=tk.E,padx=5,pady=5)\n",
    "        self.station_location_label.grid(column=0,row=3,sticky=tk.E,padx=5,pady=5)\n",
    "        self.bcf_id_label.grid(column=0,row=4,sticky=tk.E,padx=5,pady=5)\n",
    "        self.omusig_addr_label.grid(column=0,row=5,sticky=tk.E,padx=5,pady=5)\n",
    "        self.lte_path_label.grid(column=0,row=6,sticky=tk.E,padx=5,pady=5)\n",
    "        self.ip_path_label.grid(column=0,row=7,sticky=tk.E,padx=5,pady=5)\n",
    "        self.template_path_label.grid(column=0,row=8,sticky=tk.E,padx=5,pady=5)\n",
    "        self.out_path_label.grid(column=0,row=9,sticky=tk.E,padx=5,pady=5)\n",
    "\n",
    "        self.status_label.grid(column=0,row=11,sticky=tk.SW,padx=5,pady=5)\n",
    "\n",
    "        self.lte_button.grid(column=2,row=6,sticky=tk.W,padx=5,pady=5)\n",
    "        self.ip_button.grid(column=2,row=7,sticky=tk.W,padx=5,pady=5)\n",
    "        self.template_button.grid(column=2,row=8,sticky=tk.W,padx=5,pady=5)\n",
    "        self.out_button.grid(column=2,row=9,sticky=tk.W,padx=5,pady=5)\n",
    "\n",
    "        self.submit_button.grid(column=0,columnspan=3,row=10,padx=5,pady=5)\n",
    "\n",
    "        self.station_name_entry.grid(column=1,row=1,padx=5,pady=5)\n",
    "        self.station_label_entry.grid(column=1,row=2,padx=5,pady=5)\n",
    "        self.station_location_entry.grid(column=1,row=3,padx=5,pady=5)\n",
    "        self.bcf_id_entry.grid(column=1,row=4,padx=5,pady=5)\n",
    "        self.omusig_addr_entry.grid(column=1,row=5,padx=5,pady=5)\n",
    "        self.lte_path_entry.grid(column=1,row=6,padx=5,pady=5)\n",
    "        self.ip_path_entry.grid(column=1,row=7,padx=5,pady=5)\n",
    "        self.template_path_entry.grid(column=1,row=8,padx=5,pady=5)\n",
    "        self.out_path_entry.grid(column=1,row=9,padx=5,pady=5)\n",
    "\n",
    "    def start(self):\n",
    "        self.mainloop()\n",
    "\n",
    "    def open_lte(self):\n",
    "        file = askopenfilename(title=\"Open a File\", filetypes=[(\"Excel files\", \".xlsx .xls .xlsm\")])\n",
    "        if(file!='' and file is not None):\n",
    "            self.lte_path_text.set(file)\n",
    "\n",
    "    def open_ip(self):\n",
    "        file = askopenfilename(title=\"Open a File\", filetypes=[(\"Excel files\", \".xlsx .xls .xlsm\")])\n",
    "        if(file!='' and file is not None):\n",
    "            self.ip_path_text.set(file)\n",
    "    \n",
    "    def open_template(self):\n",
    "        file = askopenfilename(title=\"Open a File\", filetypes=[(\"XML files\", \".xml\")])\n",
    "        if(file!='' and file is not None):\n",
    "            self.template_path_text.set(file)\n",
    "\n",
    "    def save_file(self):\n",
    "        file = asksaveasfilename(title=\"Save as\", filetypes=[(\"XML files\", \".xml\")], defaultextension='.xml')\n",
    "        if(file!='' and file is not None):\n",
    "            self.out_path_text.set(file)\n",
    "\n",
    "    def show_status(self,message):\n",
    "        self.status.set(message)\n",
    "        self.update()\n",
    "        \n",
    "    def run(self):\n",
    "        for child in self.children:\n",
    "            child.configure(state=tk.DISABLED)\n",
    "\n",
    "        worker = l.Logic(\n",
    "            self.station_name_text.get(),\n",
    "            self.station_label_text.get(),\n",
    "            self.station_location_text.get(),\n",
    "            self.bcf_id_text.get(),\n",
    "            self.omusig_addr_text.get(),\n",
    "            self.lte_path_text.get(),\n",
    "            self.ip_path_text.get(),\n",
    "            self.template_path_text.get(),\n",
    "            self.out_path_text.get(),\n",
    "        )\n",
    "        worker.set_logger(self.show_status)\n",
    "        worker.start()\n",
    "\n",
    "        for child in self.children:\n",
    "            child.configure(state=tk.NORMAL)\n",
    "\n",
    "    def start(self):\n",
    "        self.mainloop()"
   ]
  },
  {
   "cell_type": "code",
   "execution_count": 41,
   "metadata": {},
   "outputs": [],
   "source": [
    "import xml.etree.ElementTree as ET\n",
    "import openpyxl as xl\n",
    "import copy\n",
    "import re\n",
    "\n",
    "def import_ip_table(path:str, code:str):\n",
    "        # self.log(\"Loading IP table\")\n",
    "        workbook = xl.load_workbook(filename=path, data_only=True, read_only=True)\n",
    "        sheet = workbook.active\n",
    "\n",
    "        relevant_rows = set()\n",
    "        # self.address_space \n",
    "        defined_tech_codes = ['','M','H','U','Q','G','L','O','J','F','D','E','N']\n",
    "        address_space = {}\n",
    "        ip_int_column = 34\n",
    "        loc_code = code[:2]\n",
    "        num_code = re.findall(r'\\d+', code)[0]\n",
    "        # self.log('Searching for relevant fields')\n",
    "        for row in sheet.rows:\n",
    "            cell = row[ip_int_column]\n",
    "            if cell.value is not None and type(cell.value) is str:\n",
    "                for name_part in cell.value.split('_'):\n",
    "                     if len(name_part) > 2 and len(re.findall(r'\\d+', name_part)) > 0 and len(re.findall(r'\\d+', name_part)[0]) > 1:\n",
    "                          # Ovo predstavlja loc code u tabeli\n",
    "                        cell_loc_code = name_part[:2]\n",
    "                        cell_tech_code = ''\n",
    "                        if not name_part[2].isdigit():\n",
    "                            cell_tech_code = name_part[2]\n",
    "                        cell_num_code = re.findall(r'\\d+', name_part)[0]\n",
    "                        if cell_loc_code == loc_code and cell_num_code == num_code and cell_tech_code in defined_tech_codes:\n",
    "                            relevant_rows.add(cell.row)\n",
    "\n",
    "        # self.log('Constructing address space')\n",
    "        for row in relevant_rows:\n",
    "            ip = sheet[row][ip_int_column+1].value.split('/')[0]\n",
    "            vlan = sheet[row][ip_int_column+2].value\n",
    "            octets = ip.split('.')\n",
    "            octets[-1] = str(int(octets[-1])-1)\n",
    "            gateway = '.'.join(octets)\n",
    "            int_name = sheet[row][ip_int_column].value\n",
    "            if 'rbs' in int_name.lower():\n",
    "                if 'RBS' in address_space.keys():\n",
    "                    raise Exception(\"Multiple address entries detected in IP_TABLE (same location and number), Check for validity!\")\n",
    "                address_space['RBS'] = [ip,gateway,vlan]\n",
    "            elif 'abis' in int_name.lower():\n",
    "                if 'ABIS' in address_space.keys():\n",
    "                    raise Exception(\"Multiple address entries detected in IP_TABLE (same location and number), Check for validity!\")\n",
    "                address_space['ABIS'] = [ip,gateway,vlan]\n",
    "            elif 's1' in int_name.lower():\n",
    "                if 'S1' in address_space.keys():\n",
    "                    raise Exception(\"Multiple address entries detected in IP_TABLE (same location and number), Check for validity!\")\n",
    "                address_space['S1'] = [ip,gateway,vlan]\n",
    "            elif 'oam' in int_name.lower() and '10.244.' in ip:\n",
    "                if 'OAM' in address_space.keys():\n",
    "                    raise Exception(\"Multiple address entries detected in IP_TABLE (same location and number), Check for validity!\")\n",
    "                address_space['OAM'] = [ip,gateway,vlan]\n",
    "            elif 'sync' in int_name.lower():\n",
    "                if 'SYNC' in address_space.keys():\n",
    "                    raise Exception(\"Multiple address entries detected in IP_TABLE (same location and number), Check for validity!\")\n",
    "                address_space['SYNC'] = [ip,gateway,vlan]\n",
    "\n",
    "        return address_space"
   ]
  },
  {
   "cell_type": "code",
   "execution_count": 38,
   "metadata": {},
   "outputs": [
    {
     "ename": "Exception",
     "evalue": "Multiple address entries detected in IP_TABLE (same location and number), Check for validity!",
     "output_type": "error",
     "traceback": [
      "\u001b[1;31m---------------------------------------------------------------------------\u001b[0m",
      "\u001b[1;31mException\u001b[0m                                 Traceback (most recent call last)",
      "Cell \u001b[1;32mIn[38], line 1\u001b[0m\n\u001b[1;32m----> 1\u001b[0m import_ip_table(\u001b[39m'\u001b[39;49m\u001b[39mC:\u001b[39;49m\u001b[39m\\\\\u001b[39;49;00m\u001b[39mPoso\u001b[39;49m\u001b[39m\\\\\u001b[39;49;00m\u001b[39mNokia\u001b[39;49m\u001b[39m\\\\\u001b[39;49;00m\u001b[39mIP_tabele\u001b[39;49m\u001b[39m\\\\\u001b[39;49;00m\u001b[39mNSN ALL IP i LTE  Tabela ver14.0.xlsm\u001b[39;49m\u001b[39m'\u001b[39;49m,\u001b[39m'\u001b[39;49m\u001b[39mJAJ07\u001b[39;49m\u001b[39m'\u001b[39;49m)\n",
      "Cell \u001b[1;32mIn[37], line 43\u001b[0m, in \u001b[0;36mimport_ip_table\u001b[1;34m(path, code)\u001b[0m\n\u001b[0;32m     41\u001b[0m \u001b[39mif\u001b[39;00m \u001b[39m'\u001b[39m\u001b[39mrbs\u001b[39m\u001b[39m'\u001b[39m \u001b[39min\u001b[39;00m int_name\u001b[39m.\u001b[39mlower():\n\u001b[0;32m     42\u001b[0m     \u001b[39mif\u001b[39;00m \u001b[39m'\u001b[39m\u001b[39mRBS\u001b[39m\u001b[39m'\u001b[39m \u001b[39min\u001b[39;00m address_space\u001b[39m.\u001b[39mkeys():\n\u001b[1;32m---> 43\u001b[0m         \u001b[39mraise\u001b[39;00m \u001b[39mException\u001b[39;00m(\u001b[39m\"\u001b[39m\u001b[39mMultiple address entries detected in IP_TABLE (same location and number), Check for validity!\u001b[39m\u001b[39m\"\u001b[39m)\n\u001b[0;32m     44\u001b[0m     address_space[\u001b[39m'\u001b[39m\u001b[39mRBS\u001b[39m\u001b[39m'\u001b[39m] \u001b[39m=\u001b[39m [ip,gateway,vlan]\n\u001b[0;32m     45\u001b[0m \u001b[39melif\u001b[39;00m \u001b[39m'\u001b[39m\u001b[39mabis\u001b[39m\u001b[39m'\u001b[39m \u001b[39min\u001b[39;00m int_name\u001b[39m.\u001b[39mlower():\n",
      "\u001b[1;31mException\u001b[0m: Multiple address entries detected in IP_TABLE (same location and number), Check for validity!"
     ]
    }
   ],
   "source": [
    "import_ip_table('C:\\\\Poso\\\\Nokia\\\\IP_tabele\\\\NSN ALL IP i LTE  Tabela ver14.0.xlsm','JAJ07')"
   ]
  },
  {
   "cell_type": "code",
   "execution_count": 39,
   "metadata": {},
   "outputs": [
    {
     "data": {
      "text/plain": [
       "{'RBS': ['10.206.135.66', '10.206.135.65', 1010],\n",
       " 'ABIS': ['10.206.135.90', '10.206.135.89', 1014],\n",
       " 'S1': ['10.245.98.246', '10.245.98.245', 1011],\n",
       " 'OAM': ['10.244.98.246', '10.244.98.245', 1012],\n",
       " 'SYNC': ['10.243.49.138', '10.243.49.137', 1013]}"
      ]
     },
     "execution_count": 39,
     "metadata": {},
     "output_type": "execute_result"
    }
   ],
   "source": [
    "import_ip_table('C:\\\\Poso\\\\Nokia\\\\IP_tabele\\\\NSN ALL IP i LTE  Tabela ver14.0.xlsm','KG115')"
   ]
  },
  {
   "cell_type": "code",
   "execution_count": 42,
   "metadata": {},
   "outputs": [
    {
     "data": {
      "text/plain": [
       "{'S1': ['10.245.175.2', '10.245.175.1', 1011],\n",
       " 'OAM': ['10.244.175.2', '10.244.175.1', 1012],\n",
       " 'SYNC': ['10.243.147.2', '10.243.147.1', 1013],\n",
       " 'ABIS': ['10.206.255.2', '10.206.255.1', 1010]}"
      ]
     },
     "execution_count": 42,
     "metadata": {},
     "output_type": "execute_result"
    }
   ],
   "source": [
    "import_ip_table('C:\\\\Poso\\\\Nokia\\\\IP_tabele\\\\NSN ALL IP i LTE  Tabela ver14.0.xlsm','KGL136')"
   ]
  },
  {
   "cell_type": "code",
   "execution_count": null,
   "metadata": {},
   "outputs": [
    {
     "data": {
      "text/plain": [
       "{'ABIS': ['10.206.149.58', '10.206.149.57', 1010],\n",
       " 'S1': ['10.245.102.30', '10.245.102.29', 1011],\n",
       " 'OAM': ['10.244.102.30', '10.244.102.29', 1012],\n",
       " 'SYNC': ['10.243.51.22', '10.243.51.21', 1013]}"
      ]
     },
     "execution_count": 34,
     "metadata": {},
     "output_type": "execute_result"
    }
   ],
   "source": [
    "import_ip_table('C:\\\\Poso\\\\Nokia\\\\IP_tabele\\\\NSN ALL IP i LTE  Tabela ver14.0.xlsm','KVO89')"
   ]
  },
  {
   "cell_type": "code",
   "execution_count": null,
   "metadata": {},
   "outputs": [
    {
     "data": {
      "text/plain": [
       "{'RBS': ['10.206.110.62', '10.206.110.61', 1065],\n",
       " 'ABIS': ['10.206.110.178', '10.206.110.177', 1064],\n",
       " 'S1': ['10.245.208.26', '10.245.208.25', 1067],\n",
       " 'OAM': ['10.244.208.26', '10.244.208.25', 1068],\n",
       " 'SYNC': ['10.243.104.14', '10.243.104.13', 1069]}"
      ]
     },
     "execution_count": 35,
     "metadata": {},
     "output_type": "execute_result"
    }
   ],
   "source": [
    "import_ip_table('C:\\\\Poso\\\\Nokia\\\\IP_tabele\\\\NSN ALL IP i LTE  Tabela ver14.0.xlsm','NIL120')"
   ]
  },
  {
   "cell_type": "code",
   "execution_count": null,
   "metadata": {},
   "outputs": [
    {
     "data": {
      "text/plain": [
       "{'RBS': ['10.206.132.114', '10.206.132.113', 1008],\n",
       " 'ABIS': ['10.206.132.118', '10.206.132.117', 1009],\n",
       " 'S1': ['10.245.204.42', '10.245.204.41', 1012],\n",
       " 'OAM': ['10.244.204.42', '10.244.204.41', 1013],\n",
       " 'SYNC': ['10.243.102.22', '10.243.102.21', 1014]}"
      ]
     },
     "execution_count": 36,
     "metadata": {},
     "output_type": "execute_result"
    }
   ],
   "source": [
    "import_ip_table('C:\\\\Poso\\\\Nokia\\\\IP_tabele\\\\NSN ALL IP i LTE  Tabela ver14.0.xlsm','ZAF09')"
   ]
  },
  {
   "cell_type": "code",
   "execution_count": 45,
   "metadata": {},
   "outputs": [],
   "source": [
    "def address_change_new(self, orig:ET.ElementTree):\n",
    "    self.log('Changig IP address space')\n",
    "    changed = copy.deepcopy(orig)\n",
    "    root = changed.getroot()\n",
    "\n",
    "    vlan_lbs = ['RBS','ABIS','S1','OAM','SYNC']\n",
    "    vlans = root.findall('.//*[@name=\"vlanid\"]/..')\n",
    "    #svi vlanovi\n",
    "    for elem in vlans:\n",
    "        vlan_labels = elem.findall('.//[@name=\"userLabel\"]')\n",
    "        if len(vlan_labels) == 0:\n",
    "            #ne postoje labele\n",
    "            raise Exception('Please label VLANs with values [RBS/ABIS/S1/OAM/SYNC] inside the template file')\n",
    "        vlan_label = vlan_labels[0].text\n",
    "        vlan_type = ''\n",
    "        for lb in vlan_lbs:\n",
    "            if lb.lower() in vlan_label.lower():\n",
    "                vlan_type=lb\n",
    "        if vlan_type=='':\n",
    "            raise Exception('VLAN labeled: '+vlan_label+' has no corresponding addres, please use values [RBS/ABIS/S1/OAM/SYNC] inside the label')\n",
    "        \n",
    "        #replace label VLAN value (if defined)\n",
    "        old_label = re.findall(r'((VLAN)|(Vlan)|(vlan))\\d+',elem.findall('.//[@name=\"userLabel\"]')[0].text)\n",
    "        if len(old_label)>0:\n",
    "            old_label = old_label[0]\n",
    "            elem.findall('.//[@name=\"userLabel\"]')[0].text.replace(old_label,'VLAN'+ self.address_space[vlan_type][2])\n",
    "        #replace VLAN Id\n",
    "        elem.findall('.//[@name=\"vlanid\"]')[0].text = self.address_space[vlan_type][2]\n",
    "        #add previous vlanId to address_space\n",
    "        self.address_space[vlan_type].append(re.findall(r'VLANIF-\\d+',elem.get('distName'))[0].replace('VLANIF-',''))\n",
    "\n",
    "    #VLAN->IP connection\n",
    "    vlan_parents = root.findall('.//*[@name=\"interfaceDN\"]/..')\n",
    "    for elem in vlan_parents:\n",
    "        for addr in self.address_space.values():\n",
    "            if re.findall(r'VLANIF-\\d+',elem.findall('.//*[@name=\"interfaceDN\"]')[0].text)[0].replace('VLANIF-','') == addr[3]:\n",
    "                addr.append(re.findall(r'IPIF-\\d+',parent.get('distName'))[0].replace('IPIF-',''))\n",
    "\n",
    "    #IP address change\n",
    "    search = root.findall('.//*[@name=\"localIpAddr\"]')\n",
    "    parents = root.findall('.//*[@name=\"localIpAddr\"]/..')\n",
    "    for elem, parent in zip(search, parents):\n",
    "        for addr in self.address_space.values():\n",
    "            if re.findall(r'IPIF-\\d+',parent.get('distName'))[0].replace('IPIF-','') == addr[4]:\n",
    "                addr.append(elem.text)\n",
    "                octets = elem.text.split('.')\n",
    "                octets[-1] = str(int(octets[-1])-1)\n",
    "                old_gateway = '.'.join(octets)\n",
    "                addr.append(old_gateway)\n",
    "                elem.text=addr[0]\n",
    "\n",
    "    #Gateway change\n",
    "    search = root.findall('.//*[@name=\"gateway\"]')\n",
    "    for elem in search:\n",
    "        for addr in self.address_space:\n",
    "            if addr[6] == elem.text:\n",
    "                elem.text=addr[1]\n",
    "\n",
    "    return changed"
   ]
  },
  {
   "cell_type": "code",
   "execution_count": 52,
   "metadata": {},
   "outputs": [
    {
     "name": "stdout",
     "output_type": "stream",
     "text": [
      "Importing template...\n",
      "Opening LTE table...\n",
      "Finding Relevant Rows...\n",
      "Collecting data...\n",
      "General info update...\n",
      "Cell Name and Id update...\n",
      "Tac update...\n",
      "RACH update...\n",
      "TraceId update...\n",
      "PhCellId update...\n",
      "Changing BCF data...\n"
     ]
    }
   ],
   "source": [
    "import logic\n",
    "\n",
    "worker = l.Logic(\n",
    "    'JAJ07',\n",
    "    'test_name',\n",
    "    'test_loc',\n",
    "    '1111',\n",
    "    '172.16.11.11',\n",
    "    'C:\\\\Poso\\\\Nokia\\\\LTE_tabele\\\\LTE_podaci_06_03_2023.xlsx',\n",
    "    'C:\\\\Poso\\\\Nokia\\\\IP_tabele\\\\NSN ALL IP i LTE  Tabela ver14.0.xlsm',\n",
    "    'C:\\\\Poso\\\\Nokia\\\\Stanice\\\\JAJ07\\\\JAJ07.xml',\n",
    "    '.\\\\JAJ07.xml',\n",
    ")\n",
    "worker.start()"
   ]
  },
  {
   "cell_type": "code",
   "execution_count": 53,
   "metadata": {},
   "outputs": [
    {
     "name": "stdout",
     "output_type": "stream",
     "text": [
      "Importing template...\n",
      "Opening LTE table...\n",
      "Finding Relevant Rows...\n",
      "Collecting data...\n",
      "General info update...\n",
      "Cell Name and Id update...\n",
      "Tac update...\n",
      "RACH update...\n",
      "TraceId update...\n",
      "PhCellId update...\n"
     ]
    },
    {
     "ename": "IndexError",
     "evalue": "list index out of range",
     "output_type": "error",
     "traceback": [
      "\u001b[1;31m---------------------------------------------------------------------------\u001b[0m",
      "\u001b[1;31mIndexError\u001b[0m                                Traceback (most recent call last)",
      "Cell \u001b[1;32mIn[53], line 12\u001b[0m\n\u001b[0;32m      1\u001b[0m worker \u001b[39m=\u001b[39m l\u001b[39m.\u001b[39mLogic(\n\u001b[0;32m      2\u001b[0m     \u001b[39m'\u001b[39m\u001b[39mKG115\u001b[39m\u001b[39m'\u001b[39m,\n\u001b[0;32m      3\u001b[0m     \u001b[39m'\u001b[39m\u001b[39mtest_name\u001b[39m\u001b[39m'\u001b[39m,\n\u001b[1;32m   (...)\u001b[0m\n\u001b[0;32m     10\u001b[0m     \u001b[39m'\u001b[39m\u001b[39m.\u001b[39m\u001b[39m\\\\\u001b[39;00m\u001b[39mKG115.xml\u001b[39m\u001b[39m'\u001b[39m,\n\u001b[0;32m     11\u001b[0m )\n\u001b[1;32m---> 12\u001b[0m worker\u001b[39m.\u001b[39;49mstart()\n",
      "File \u001b[1;32mc:\\Poso\\Git\\telekom\\nokia_bts_logic\\logic.py:342\u001b[0m, in \u001b[0;36mstart\u001b[1;34m(self)\u001b[0m\n\u001b[0;32m    340\u001b[0m vlans \u001b[39m=\u001b[39m root\u001b[39m.\u001b[39mfindall(\u001b[39m'\u001b[39m\u001b[39m.//*[@name=\u001b[39m\u001b[39m\"\u001b[39m\u001b[39mvlanid\u001b[39m\u001b[39m\"\u001b[39m\u001b[39m]/..\u001b[39m\u001b[39m'\u001b[39m)\n\u001b[0;32m    341\u001b[0m \u001b[39mfor\u001b[39;00m elem \u001b[39min\u001b[39;00m vlans:\n\u001b[1;32m--> 342\u001b[0m     \u001b[39mfor\u001b[39;00m addr \u001b[39min\u001b[39;00m \u001b[39mself\u001b[39m\u001b[39m.\u001b[39maddress_space:\n\u001b[0;32m    343\u001b[0m         \u001b[39mif\u001b[39;00m re\u001b[39m.\u001b[39mfindall(\u001b[39mr\u001b[39m\u001b[39m'\u001b[39m\u001b[39mVLANIF-\u001b[39m\u001b[39m\\\u001b[39m\u001b[39md+\u001b[39m\u001b[39m'\u001b[39m,parent\u001b[39m.\u001b[39mget(\u001b[39m'\u001b[39m\u001b[39mdistName\u001b[39m\u001b[39m'\u001b[39m))[\u001b[39m0\u001b[39m]\u001b[39m.\u001b[39mreplace(\u001b[39m'\u001b[39m\u001b[39mVLANIF-\u001b[39m\u001b[39m'\u001b[39m,\u001b[39m'\u001b[39m\u001b[39m'\u001b[39m) \u001b[39m==\u001b[39m addr[\u001b[39m4\u001b[39m]:\n\u001b[0;32m    344\u001b[0m             \u001b[39mif\u001b[39;00m \u001b[39mlen\u001b[39m(elem\u001b[39m.\u001b[39mfindall(\u001b[39m'\u001b[39m\u001b[39m.//[@name=\u001b[39m\u001b[39m\"\u001b[39m\u001b[39muserLabel\u001b[39m\u001b[39m\"\u001b[39m\u001b[39m]\u001b[39m\u001b[39m'\u001b[39m))\u001b[39m>\u001b[39m\u001b[39m0\u001b[39m:\n\u001b[0;32m    345\u001b[0m                 \u001b[39m#postoji labela\u001b[39;00m\n",
      "File \u001b[1;32mc:\\Poso\\Git\\telekom\\nokia_bts_logic\\logic.py:249\u001b[0m, in \u001b[0;36mphy_cell_id_change\u001b[1;34m(self, orig)\u001b[0m\n\u001b[0;32m    247\u001b[0m \u001b[39mdef\u001b[39;00m \u001b[39mcell_id_change\u001b[39m(\u001b[39mself\u001b[39m, orig: ET\u001b[39m.\u001b[39mElementTree):\n\u001b[0;32m    248\u001b[0m     \u001b[39mself\u001b[39m\u001b[39m.\u001b[39mlog(\u001b[39m'\u001b[39m\u001b[39mTraceId update\u001b[39m\u001b[39m'\u001b[39m)\n\u001b[1;32m--> 249\u001b[0m     changed \u001b[39m=\u001b[39m copy\u001b[39m.\u001b[39mdeepcopy(orig)\n\u001b[0;32m    250\u001b[0m     root \u001b[39m=\u001b[39m changed\u001b[39m.\u001b[39mgetroot()\n\u001b[0;32m    252\u001b[0m     search \u001b[39m=\u001b[39m root\u001b[39m.\u001b[39mfindall(\u001b[39m'\u001b[39m\u001b[39m.//*[@name=\u001b[39m\u001b[39m\"\u001b[39m\u001b[39mtraceId\u001b[39m\u001b[39m\"\u001b[39m\u001b[39m]\u001b[39m\u001b[39m'\u001b[39m)\n",
      "\u001b[1;31mIndexError\u001b[0m: list index out of range"
     ]
    }
   ],
   "source": [
    "worker = l.Logic(\n",
    "    'KG115',\n",
    "    'test_name',\n",
    "    'test_loc',\n",
    "    '1111',\n",
    "    '172.16.11.11',\n",
    "    'C:\\\\Poso\\\\Nokia\\\\LTE_tabele\\\\LTE_podaci_06_03_2023.xlsx',\n",
    "    'C:\\\\Poso\\\\Nokia\\\\IP_tabele\\\\NSN ALL IP i LTE  Tabela ver14.0.xlsm',\n",
    "    'C:\\\\Poso\\\\Nokia\\\\Stanice\\\\KG115\\\\KG115.xml',\n",
    "    '.\\\\KG115.xml',\n",
    ")\n",
    "worker.start()"
   ]
  },
  {
   "cell_type": "code",
   "execution_count": 49,
   "metadata": {},
   "outputs": [
    {
     "name": "stdout",
     "output_type": "stream",
     "text": [
      "Importing template...\n",
      "Opening LTE table...\n",
      "Finding Relevant Rows...\n",
      "Collecting data...\n",
      "General info update...\n",
      "Cell Name and Id update...\n",
      "Tac update...\n",
      "RACH update...\n",
      "TraceId update...\n",
      "PhCellId update...\n",
      "Changing BCF data...\n"
     ]
    }
   ],
   "source": [
    "worker = l.Logic(\n",
    "    'KGL136',\n",
    "    'test_name',\n",
    "    'test_loc',\n",
    "    '1111',\n",
    "    '172.16.11.11',\n",
    "    'C:\\\\Poso\\\\Nokia\\\\LTE_tabele\\\\LTE_podaci_06_03_2023.xlsx',\n",
    "    'C:\\\\Poso\\\\Nokia\\\\IP_tabele\\\\NSN ALL IP i LTE  Tabela ver14.0.xlsm',\n",
    "    'C:\\\\Poso\\\\Nokia\\\\Stanice\\\\KGL136\\\\KGL136.xml',\n",
    "    '.\\\\KGL136.xml',\n",
    ")\n",
    "worker.start()"
   ]
  },
  {
   "cell_type": "code",
   "execution_count": 50,
   "metadata": {},
   "outputs": [
    {
     "name": "stdout",
     "output_type": "stream",
     "text": [
      "Importing template...\n",
      "Opening LTE table...\n",
      "Finding Relevant Rows...\n",
      "Collecting data...\n",
      "General info update...\n",
      "Cell Name and Id update...\n",
      "Tac update...\n",
      "RACH update...\n",
      "TraceId update...\n",
      "PhCellId update...\n",
      "Changing BCF data...\n"
     ]
    }
   ],
   "source": [
    "worker = l.Logic(\n",
    "    'KVO89',\n",
    "    'test_name',\n",
    "    'test_loc',\n",
    "    '1111',\n",
    "    '172.16.11.11',\n",
    "    'C:\\\\Poso\\\\Nokia\\\\LTE_tabele\\\\LTE_podaci_06_03_2023.xlsx',\n",
    "    'C:\\\\Poso\\\\Nokia\\\\IP_tabele\\\\NSN ALL IP i LTE  Tabela ver14.0.xlsm',\n",
    "    'C:\\\\Poso\\\\Nokia\\\\Stanice\\\\KVO89\\\\KVO89.xml',\n",
    "    '.\\\\KVO89.xml',\n",
    ")\n",
    "worker.start()"
   ]
  },
  {
   "cell_type": "code",
   "execution_count": 51,
   "metadata": {},
   "outputs": [
    {
     "name": "stdout",
     "output_type": "stream",
     "text": [
      "Importing template...\n",
      "Opening LTE table...\n",
      "Finding Relevant Rows...\n",
      "Collecting data...\n",
      "General info update...\n",
      "Cell Name and Id update...\n",
      "Tac update...\n",
      "RACH update...\n",
      "TraceId update...\n",
      "PhCellId update...\n",
      "Changing BCF data...\n"
     ]
    },
    {
     "ename": "UnicodeEncodeError",
     "evalue": "'charmap' codec can't encode character '\\ufffd' in position 23: character maps to <undefined>",
     "output_type": "error",
     "traceback": [
      "\u001b[1;31m---------------------------------------------------------------------------\u001b[0m",
      "\u001b[1;31mUnicodeEncodeError\u001b[0m                        Traceback (most recent call last)",
      "Cell \u001b[1;32mIn[51], line 12\u001b[0m\n\u001b[0;32m      1\u001b[0m worker \u001b[39m=\u001b[39m l\u001b[39m.\u001b[39mLogic(\n\u001b[0;32m      2\u001b[0m     \u001b[39m'\u001b[39m\u001b[39mNIL120\u001b[39m\u001b[39m'\u001b[39m,\n\u001b[0;32m      3\u001b[0m     \u001b[39m'\u001b[39m\u001b[39mtest_name\u001b[39m\u001b[39m'\u001b[39m,\n\u001b[1;32m   (...)\u001b[0m\n\u001b[0;32m     10\u001b[0m     \u001b[39m'\u001b[39m\u001b[39m.\u001b[39m\u001b[39m\\\\\u001b[39;00m\u001b[39mNIL120.xml\u001b[39m\u001b[39m'\u001b[39m,\n\u001b[0;32m     11\u001b[0m )\n\u001b[1;32m---> 12\u001b[0m worker\u001b[39m.\u001b[39;49mstart()\n",
      "File \u001b[1;32mc:\\Poso\\Git\\telekom\\nokia_bts_logic\\logic.py:346\u001b[0m, in \u001b[0;36mstart\u001b[1;34m(self)\u001b[0m\n\u001b[0;32m    343\u001b[0m \u001b[39mif\u001b[39;00m re\u001b[39m.\u001b[39mfindall(\u001b[39mr\u001b[39m\u001b[39m'\u001b[39m\u001b[39mVLANIF-\u001b[39m\u001b[39m\\\u001b[39m\u001b[39md+\u001b[39m\u001b[39m'\u001b[39m,parent\u001b[39m.\u001b[39mget(\u001b[39m'\u001b[39m\u001b[39mdistName\u001b[39m\u001b[39m'\u001b[39m))[\u001b[39m0\u001b[39m]\u001b[39m.\u001b[39mreplace(\u001b[39m'\u001b[39m\u001b[39mVLANIF-\u001b[39m\u001b[39m'\u001b[39m,\u001b[39m'\u001b[39m\u001b[39m'\u001b[39m) \u001b[39m==\u001b[39m addr[\u001b[39m4\u001b[39m]:\n\u001b[0;32m    344\u001b[0m     \u001b[39mif\u001b[39;00m \u001b[39mlen\u001b[39m(elem\u001b[39m.\u001b[39mfindall(\u001b[39m'\u001b[39m\u001b[39m.//[@name=\u001b[39m\u001b[39m\"\u001b[39m\u001b[39muserLabel\u001b[39m\u001b[39m\"\u001b[39m\u001b[39m]\u001b[39m\u001b[39m'\u001b[39m))\u001b[39m>\u001b[39m\u001b[39m0\u001b[39m:\n\u001b[0;32m    345\u001b[0m         \u001b[39m#postoji labela\u001b[39;00m\n\u001b[1;32m--> 346\u001b[0m         old_label \u001b[39m=\u001b[39m re\u001b[39m.\u001b[39mfindall(\u001b[39mr\u001b[39m\u001b[39m'\u001b[39m\u001b[39m((VLAN)|(Vlan)|(vlan))\u001b[39m\u001b[39m\\\u001b[39m\u001b[39md+\u001b[39m\u001b[39m'\u001b[39m,elem\u001b[39m.\u001b[39mfindall(\u001b[39m'\u001b[39m\u001b[39m.//[@name=\u001b[39m\u001b[39m\"\u001b[39m\u001b[39muserLabel\u001b[39m\u001b[39m\"\u001b[39m\u001b[39m]\u001b[39m\u001b[39m'\u001b[39m)[\u001b[39m0\u001b[39m]\u001b[39m.\u001b[39mtext)\n\u001b[0;32m    347\u001b[0m         \u001b[39mif\u001b[39;00m \u001b[39mlen\u001b[39m(old_label)\u001b[39m>\u001b[39m\u001b[39m0\u001b[39m:\n\u001b[0;32m    348\u001b[0m             old_label \u001b[39m=\u001b[39m old_label[\u001b[39m0\u001b[39m]\n",
      "File \u001b[1;32mc:\\Users\\lazari\\AppData\\Local\\Programs\\Python\\Python311\\Lib\\xml\\etree\\ElementTree.py:743\u001b[0m, in \u001b[0;36mElementTree.write\u001b[1;34m(self, file_or_filename, encoding, xml_declaration, default_namespace, method, short_empty_elements)\u001b[0m\n\u001b[0;32m    741\u001b[0m qnames, namespaces \u001b[39m=\u001b[39m _namespaces(\u001b[39mself\u001b[39m\u001b[39m.\u001b[39m_root, default_namespace)\n\u001b[0;32m    742\u001b[0m serialize \u001b[39m=\u001b[39m _serialize[method]\n\u001b[1;32m--> 743\u001b[0m serialize(write, \u001b[39mself\u001b[39;49m\u001b[39m.\u001b[39;49m_root, qnames, namespaces,\n\u001b[0;32m    744\u001b[0m           short_empty_elements\u001b[39m=\u001b[39;49mshort_empty_elements)\n",
      "File \u001b[1;32mc:\\Users\\lazari\\AppData\\Local\\Programs\\Python\\Python311\\Lib\\xml\\etree\\ElementTree.py:906\u001b[0m, in \u001b[0;36m_serialize_xml\u001b[1;34m(write, elem, qnames, namespaces, short_empty_elements, **kwargs)\u001b[0m\n\u001b[0;32m    904\u001b[0m         write(_escape_cdata(text))\n\u001b[0;32m    905\u001b[0m     \u001b[39mfor\u001b[39;00m e \u001b[39min\u001b[39;00m elem:\n\u001b[1;32m--> 906\u001b[0m         _serialize_xml(write, e, qnames, \u001b[39mNone\u001b[39;49;00m,\n\u001b[0;32m    907\u001b[0m                        short_empty_elements\u001b[39m=\u001b[39;49mshort_empty_elements)\n\u001b[0;32m    908\u001b[0m     write(\u001b[39m\"\u001b[39m\u001b[39m</\u001b[39m\u001b[39m\"\u001b[39m \u001b[39m+\u001b[39m tag \u001b[39m+\u001b[39m \u001b[39m\"\u001b[39m\u001b[39m>\u001b[39m\u001b[39m\"\u001b[39m)\n\u001b[0;32m    909\u001b[0m \u001b[39melse\u001b[39;00m:\n",
      "File \u001b[1;32mc:\\Users\\lazari\\AppData\\Local\\Programs\\Python\\Python311\\Lib\\xml\\etree\\ElementTree.py:906\u001b[0m, in \u001b[0;36m_serialize_xml\u001b[1;34m(write, elem, qnames, namespaces, short_empty_elements, **kwargs)\u001b[0m\n\u001b[0;32m    904\u001b[0m         write(_escape_cdata(text))\n\u001b[0;32m    905\u001b[0m     \u001b[39mfor\u001b[39;00m e \u001b[39min\u001b[39;00m elem:\n\u001b[1;32m--> 906\u001b[0m         _serialize_xml(write, e, qnames, \u001b[39mNone\u001b[39;49;00m,\n\u001b[0;32m    907\u001b[0m                        short_empty_elements\u001b[39m=\u001b[39;49mshort_empty_elements)\n\u001b[0;32m    908\u001b[0m     write(\u001b[39m\"\u001b[39m\u001b[39m</\u001b[39m\u001b[39m\"\u001b[39m \u001b[39m+\u001b[39m tag \u001b[39m+\u001b[39m \u001b[39m\"\u001b[39m\u001b[39m>\u001b[39m\u001b[39m\"\u001b[39m)\n\u001b[0;32m    909\u001b[0m \u001b[39melse\u001b[39;00m:\n",
      "File \u001b[1;32mc:\\Users\\lazari\\AppData\\Local\\Programs\\Python\\Python311\\Lib\\xml\\etree\\ElementTree.py:906\u001b[0m, in \u001b[0;36m_serialize_xml\u001b[1;34m(write, elem, qnames, namespaces, short_empty_elements, **kwargs)\u001b[0m\n\u001b[0;32m    904\u001b[0m         write(_escape_cdata(text))\n\u001b[0;32m    905\u001b[0m     \u001b[39mfor\u001b[39;00m e \u001b[39min\u001b[39;00m elem:\n\u001b[1;32m--> 906\u001b[0m         _serialize_xml(write, e, qnames, \u001b[39mNone\u001b[39;49;00m,\n\u001b[0;32m    907\u001b[0m                        short_empty_elements\u001b[39m=\u001b[39;49mshort_empty_elements)\n\u001b[0;32m    908\u001b[0m     write(\u001b[39m\"\u001b[39m\u001b[39m</\u001b[39m\u001b[39m\"\u001b[39m \u001b[39m+\u001b[39m tag \u001b[39m+\u001b[39m \u001b[39m\"\u001b[39m\u001b[39m>\u001b[39m\u001b[39m\"\u001b[39m)\n\u001b[0;32m    909\u001b[0m \u001b[39melse\u001b[39;00m:\n",
      "File \u001b[1;32mc:\\Users\\lazari\\AppData\\Local\\Programs\\Python\\Python311\\Lib\\xml\\etree\\ElementTree.py:904\u001b[0m, in \u001b[0;36m_serialize_xml\u001b[1;34m(write, elem, qnames, namespaces, short_empty_elements, **kwargs)\u001b[0m\n\u001b[0;32m    902\u001b[0m write(\u001b[39m\"\u001b[39m\u001b[39m>\u001b[39m\u001b[39m\"\u001b[39m)\n\u001b[0;32m    903\u001b[0m \u001b[39mif\u001b[39;00m text:\n\u001b[1;32m--> 904\u001b[0m     write(_escape_cdata(text))\n\u001b[0;32m    905\u001b[0m \u001b[39mfor\u001b[39;00m e \u001b[39min\u001b[39;00m elem:\n\u001b[0;32m    906\u001b[0m     _serialize_xml(write, e, qnames, \u001b[39mNone\u001b[39;00m,\n\u001b[0;32m    907\u001b[0m                    short_empty_elements\u001b[39m=\u001b[39mshort_empty_elements)\n",
      "File \u001b[1;32mc:\\Users\\lazari\\AppData\\Local\\Programs\\Python\\Python311\\Lib\\encodings\\cp1250.py:19\u001b[0m, in \u001b[0;36mIncrementalEncoder.encode\u001b[1;34m(self, input, final)\u001b[0m\n\u001b[0;32m     18\u001b[0m \u001b[39mdef\u001b[39;00m \u001b[39mencode\u001b[39m(\u001b[39mself\u001b[39m, \u001b[39minput\u001b[39m, final\u001b[39m=\u001b[39m\u001b[39mFalse\u001b[39;00m):\n\u001b[1;32m---> 19\u001b[0m     \u001b[39mreturn\u001b[39;00m codecs\u001b[39m.\u001b[39;49mcharmap_encode(\u001b[39minput\u001b[39;49m,\u001b[39mself\u001b[39;49m\u001b[39m.\u001b[39;49merrors,encoding_table)[\u001b[39m0\u001b[39m]\n",
      "\u001b[1;31mUnicodeEncodeError\u001b[0m: 'charmap' codec can't encode character '\\ufffd' in position 23: character maps to <undefined>"
     ]
    }
   ],
   "source": [
    "worker = l.Logic(\n",
    "    'NIL120',\n",
    "    'test_name',\n",
    "    'test_loc',\n",
    "    '1111',\n",
    "    '172.16.11.11',\n",
    "    'C:\\\\Poso\\\\Nokia\\\\LTE_tabele\\\\LTE_podaci_06_03_2023.xlsx',\n",
    "    'C:\\\\Poso\\\\Nokia\\\\IP_tabele\\\\NSN ALL IP i LTE  Tabela ver14.0.xlsm',\n",
    "    'C:\\\\Poso\\\\Nokia\\\\Stanice\\\\NIL120\\\\NIL120.xml',\n",
    "    '.\\\\NIL120.xml',\n",
    ")\n",
    "worker.start()"
   ]
  },
  {
   "cell_type": "code",
   "execution_count": 54,
   "metadata": {},
   "outputs": [
    {
     "name": "stdout",
     "output_type": "stream",
     "text": [
      "Importing template...\n",
      "Opening LTE table...\n",
      "Finding Relevant Rows...\n",
      "Collecting data...\n",
      "General info update...\n",
      "Cell Name and Id update...\n",
      "Tac update...\n",
      "RACH update...\n",
      "TraceId update...\n",
      "PhCellId update...\n",
      "Changing BCF data...\n"
     ]
    }
   ],
   "source": [
    "worker = l.Logic(\n",
    "    'ZAF09',\n",
    "    'test_name',\n",
    "    'test_loc',\n",
    "    '1111',\n",
    "    '172.16.11.11',\n",
    "    'C:\\\\Poso\\\\Nokia\\\\LTE_tabele\\\\LTE_podaci_06_03_2023.xlsx',\n",
    "    'C:\\\\Poso\\\\Nokia\\\\IP_tabele\\\\NSN ALL IP i LTE  Tabela ver14.0.xlsm',\n",
    "    'C:\\\\Poso\\\\Nokia\\\\Stanice\\\\ZAF09\\\\ZAF09.xml',\n",
    "    '.\\\\ZAF09.xml',\n",
    ")\n",
    "worker.start()"
   ]
  },
  {
   "cell_type": "code",
   "execution_count": 55,
   "metadata": {},
   "outputs": [
    {
     "name": "stdout",
     "output_type": "stream",
     "text": [
      "Importing template...\n",
      "Opening LTE table...\n",
      "Finding Relevant Rows...\n",
      "Collecting data...\n",
      "General info update...\n",
      "Cell Name and Id update...\n",
      "Tac update...\n",
      "RACH update...\n",
      "TraceId update...\n",
      "PhCellId update...\n",
      "Changing BCF data...\n"
     ]
    }
   ],
   "source": [
    "worker = l.Logic(\n",
    "    'ZAL02',\n",
    "    'test_name',\n",
    "    'test_loc',\n",
    "    '1111',\n",
    "    '172.16.11.11',\n",
    "    'C:\\\\Poso\\\\Nokia\\\\LTE_tabele\\\\LTE_podaci_06_03_2023.xlsx',\n",
    "    'C:\\\\Poso\\\\Nokia\\\\IP_tabele\\\\NSN ALL IP i LTE  Tabela ver14.0.xlsm',\n",
    "    'C:\\\\Poso\\\\Nokia\\\\Stanice\\\\ZAL02\\\\ZAL02.xml',\n",
    "    '.\\\\ZAL02',\n",
    ")\n",
    "worker.start()"
   ]
  }
 ],
 "metadata": {
  "kernelspec": {
   "display_name": "Python 3",
   "language": "python",
   "name": "python3"
  },
  "language_info": {
   "codemirror_mode": {
    "name": "ipython",
    "version": 3
   },
   "file_extension": ".py",
   "mimetype": "text/x-python",
   "name": "python",
   "nbconvert_exporter": "python",
   "pygments_lexer": "ipython3",
   "version": "3.11.1"
  },
  "orig_nbformat": 4,
  "vscode": {
   "interpreter": {
    "hash": "e0c09b2be4576e7e5010820f6518973c78eff7be6c12f1891da6f15927bd99e0"
   }
  }
 },
 "nbformat": 4,
 "nbformat_minor": 2
}
