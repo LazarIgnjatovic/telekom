{
 "cells": [
  {
   "cell_type": "code",
   "execution_count": 37,
   "metadata": {},
   "outputs": [],
   "source": [
    "import openpyxl as xl\n",
    "\n",
    "workbook = xl.load_workbook(filename=\"C:\\\\Poso\\\\Nokia\\\\LTE_tabele\\\\LTE_podaci_01_02_2023.xlsx\", data_only=True)\n",
    "sheet = workbook.active"
   ]
  },
  {
   "cell_type": "code",
   "execution_count": 41,
   "metadata": {},
   "outputs": [
    {
     "ename": "KeyboardInterrupt",
     "evalue": "",
     "output_type": "error",
     "traceback": [
      "\u001b[1;31m---------------------------------------------------------------------------\u001b[0m",
      "\u001b[1;31mKeyboardInterrupt\u001b[0m                         Traceback (most recent call last)",
      "Cell \u001b[1;32mIn[41], line 33\u001b[0m\n\u001b[0;32m     30\u001b[0m         \u001b[39melif\u001b[39;00m \u001b[39m'\u001b[39m\u001b[39mrachRootSequence\u001b[39m\u001b[39m'\u001b[39m \u001b[39min\u001b[39;00m cell\u001b[39m.\u001b[39mvalue:\n\u001b[0;32m     31\u001b[0m             root_cols\u001b[39m.\u001b[39mappend(cell\u001b[39m.\u001b[39mcolumn)\n\u001b[1;32m---> 33\u001b[0m tac_col\n",
      "Cell \u001b[1;32mIn[41], line 33\u001b[0m\n\u001b[0;32m     30\u001b[0m         \u001b[39melif\u001b[39;00m \u001b[39m'\u001b[39m\u001b[39mrachRootSequence\u001b[39m\u001b[39m'\u001b[39m \u001b[39min\u001b[39;00m cell\u001b[39m.\u001b[39mvalue:\n\u001b[0;32m     31\u001b[0m             root_cols\u001b[39m.\u001b[39mappend(cell\u001b[39m.\u001b[39mcolumn)\n\u001b[1;32m---> 33\u001b[0m tac_col\n",
      "File \u001b[1;32m~\\AppData\\Roaming\\Python\\Python311\\site-packages\\debugpy\\_vendored\\pydevd\\_pydevd_bundle\\pydevd_frame.py:988\u001b[0m, in \u001b[0;36mPyDBFrame.trace_dispatch\u001b[1;34m(self, frame, event, arg)\u001b[0m\n\u001b[0;32m    986\u001b[0m \u001b[39m# if thread has a suspend flag, we suspend with a busy wait\u001b[39;00m\n\u001b[0;32m    987\u001b[0m \u001b[39mif\u001b[39;00m info\u001b[39m.\u001b[39mpydev_state \u001b[39m==\u001b[39m STATE_SUSPEND:\n\u001b[1;32m--> 988\u001b[0m     \u001b[39mself\u001b[39;49m\u001b[39m.\u001b[39;49mdo_wait_suspend(thread, frame, event, arg)\n\u001b[0;32m    989\u001b[0m     \u001b[39mreturn\u001b[39;00m \u001b[39mself\u001b[39m\u001b[39m.\u001b[39mtrace_dispatch\n\u001b[0;32m    990\u001b[0m \u001b[39melse\u001b[39;00m:\n",
      "File \u001b[1;32m~\\AppData\\Roaming\\Python\\Python311\\site-packages\\debugpy\\_vendored\\pydevd\\_pydevd_bundle\\pydevd_frame.py:165\u001b[0m, in \u001b[0;36mPyDBFrame.do_wait_suspend\u001b[1;34m(self, *args, **kwargs)\u001b[0m\n\u001b[0;32m    164\u001b[0m \u001b[39mdef\u001b[39;00m \u001b[39mdo_wait_suspend\u001b[39m(\u001b[39mself\u001b[39m, \u001b[39m*\u001b[39margs, \u001b[39m*\u001b[39m\u001b[39m*\u001b[39mkwargs):\n\u001b[1;32m--> 165\u001b[0m     \u001b[39mself\u001b[39;49m\u001b[39m.\u001b[39;49m_args[\u001b[39m0\u001b[39;49m]\u001b[39m.\u001b[39;49mdo_wait_suspend(\u001b[39m*\u001b[39;49margs, \u001b[39m*\u001b[39;49m\u001b[39m*\u001b[39;49mkwargs)\n",
      "File \u001b[1;32m~\\AppData\\Roaming\\Python\\Python311\\site-packages\\debugpy\\_vendored\\pydevd\\pydevd.py:2070\u001b[0m, in \u001b[0;36mPyDB.do_wait_suspend\u001b[1;34m(self, thread, frame, event, arg, exception_type)\u001b[0m\n\u001b[0;32m   2067\u001b[0m             from_this_thread\u001b[39m.\u001b[39mappend(frame_custom_thread_id)\n\u001b[0;32m   2069\u001b[0m     \u001b[39mwith\u001b[39;00m \u001b[39mself\u001b[39m\u001b[39m.\u001b[39m_threads_suspended_single_notification\u001b[39m.\u001b[39mnotify_thread_suspended(thread_id, thread, stop_reason):\n\u001b[1;32m-> 2070\u001b[0m         keep_suspended \u001b[39m=\u001b[39m \u001b[39mself\u001b[39;49m\u001b[39m.\u001b[39;49m_do_wait_suspend(thread, frame, event, arg, suspend_type, from_this_thread, frames_tracker)\n\u001b[0;32m   2072\u001b[0m frames_list \u001b[39m=\u001b[39m \u001b[39mNone\u001b[39;00m\n\u001b[0;32m   2074\u001b[0m \u001b[39mif\u001b[39;00m keep_suspended:\n\u001b[0;32m   2075\u001b[0m     \u001b[39m# This means that we should pause again after a set next statement.\u001b[39;00m\n",
      "File \u001b[1;32m~\\AppData\\Roaming\\Python\\Python311\\site-packages\\debugpy\\_vendored\\pydevd\\pydevd.py:2106\u001b[0m, in \u001b[0;36mPyDB._do_wait_suspend\u001b[1;34m(self, thread, frame, event, arg, suspend_type, from_this_thread, frames_tracker)\u001b[0m\n\u001b[0;32m   2103\u001b[0m         \u001b[39mself\u001b[39m\u001b[39m.\u001b[39m_call_input_hook()\n\u001b[0;32m   2105\u001b[0m     \u001b[39mself\u001b[39m\u001b[39m.\u001b[39mprocess_internal_commands()\n\u001b[1;32m-> 2106\u001b[0m     time\u001b[39m.\u001b[39msleep(\u001b[39m0.01\u001b[39m)\n\u001b[0;32m   2108\u001b[0m \u001b[39mself\u001b[39m\u001b[39m.\u001b[39mcancel_async_evaluation(get_current_thread_id(thread), \u001b[39mstr\u001b[39m(\u001b[39mid\u001b[39m(frame)))\n\u001b[0;32m   2110\u001b[0m \u001b[39m# process any stepping instructions\u001b[39;00m\n",
      "\u001b[1;31mKeyboardInterrupt\u001b[0m: "
     ]
    }
   ],
   "source": [
    "import re\n",
    "code = 'KVL89'\n",
    "loc_code = code[:2]\n",
    "num_code = re.findall(r'\\d+', code)[0]\n",
    "\n",
    "relevant_rows = []\n",
    "enb_col = 1 \n",
    "tac_col = 0\n",
    "lncell_cols=[]\n",
    "root_cols=[]\n",
    "trace_cols=[]\n",
    "ph_cols=[]\n",
    "for cell in sheet['A']:\n",
    "    if cell.value is not None and len(cell.value) > 2 and len(re.findall(r'\\d+', cell.value)) > 0:\n",
    "        cell_loc_code = cell.value[:2]\n",
    "        cell_num_code = re.findall(r'\\d+', cell.value)[0]\n",
    "        if cell_loc_code == loc_code and cell_num_code == num_code:\n",
    "            relevant_rows.append(cell.row)\n",
    "\n",
    "for cell in sheet[1]:\n",
    "    if cell.value is not None:\n",
    "        if 'LNcell ID ' in cell.value:\n",
    "            lncell_cols.append(cell.column)\n",
    "        elif 'CellId' in cell.value:\n",
    "            trace_cols.append(cell.column)\n",
    "        elif 'TAC' in cell.value:\n",
    "            tac_col = cell.column\n",
    "        elif len(cell.value) == 4 and 'PCI' in cell.value:\n",
    "            ph_cols.append(cell.column)\n",
    "        elif 'rachRootSequence' in cell.value:\n",
    "            root_cols.append(cell.column)\n"
   ]
  },
  {
   "cell_type": "code",
   "execution_count": null,
   "metadata": {},
   "outputs": [
    {
     "data": {
      "text/plain": [
       "'KVL89'"
      ]
     },
     "execution_count": 31,
     "metadata": {},
     "output_type": "execute_result"
    }
   ],
   "source": [
    "sheet['A'][7514].value"
   ]
  }
 ],
 "metadata": {
  "kernelspec": {
   "display_name": "Python 3",
   "language": "python",
   "name": "python3"
  },
  "language_info": {
   "codemirror_mode": {
    "name": "ipython",
    "version": 3
   },
   "file_extension": ".py",
   "mimetype": "text/x-python",
   "name": "python",
   "nbconvert_exporter": "python",
   "pygments_lexer": "ipython3",
   "version": "3.11.1"
  },
  "orig_nbformat": 4,
  "vscode": {
   "interpreter": {
    "hash": "e0c09b2be4576e7e5010820f6518973c78eff7be6c12f1891da6f15927bd99e0"
   }
  }
 },
 "nbformat": 4,
 "nbformat_minor": 2
}
