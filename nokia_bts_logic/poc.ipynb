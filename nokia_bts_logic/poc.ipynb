{
 "cells": [
  {
   "cell_type": "code",
   "execution_count": 17,
   "metadata": {},
   "outputs": [
    {
     "ename": "KeyboardInterrupt",
     "evalue": "",
     "output_type": "error",
     "traceback": [
      "\u001b[1;31m---------------------------------------------------------------------------\u001b[0m",
      "\u001b[1;31mKeyboardInterrupt\u001b[0m                         Traceback (most recent call last)",
      "Cell \u001b[1;32mIn[17], line 3\u001b[0m\n\u001b[0;32m      1\u001b[0m \u001b[39mimport\u001b[39;00m \u001b[39mopenpyxl\u001b[39;00m \u001b[39mas\u001b[39;00m \u001b[39mxl\u001b[39;00m\n\u001b[1;32m----> 3\u001b[0m workbook \u001b[39m=\u001b[39m xl\u001b[39m.\u001b[39;49mload_workbook(filename\u001b[39m=\u001b[39;49m\u001b[39m\"\u001b[39;49m\u001b[39mC:\u001b[39;49m\u001b[39m\\\\\u001b[39;49;00m\u001b[39mPoso\u001b[39;49m\u001b[39m\\\\\u001b[39;49;00m\u001b[39mNokia\u001b[39;49m\u001b[39m\\\\\u001b[39;49;00m\u001b[39mLTE_tabele\u001b[39;49m\u001b[39m\\\\\u001b[39;49;00m\u001b[39mLTE_podaci_01_02_2023.xlsx\u001b[39;49m\u001b[39m\"\u001b[39;49m, data_only\u001b[39m=\u001b[39;49m\u001b[39mTrue\u001b[39;49;00m)\n\u001b[0;32m      4\u001b[0m sheet \u001b[39m=\u001b[39m workbook\u001b[39m.\u001b[39mactive\n",
      "File \u001b[1;32mc:\\Users\\lazari\\AppData\\Local\\Programs\\Python\\Python311\\Lib\\site-packages\\openpyxl\\reader\\excel.py:346\u001b[0m, in \u001b[0;36mload_workbook\u001b[1;34m(filename, read_only, keep_vba, data_only, keep_links, rich_text)\u001b[0m\n\u001b[0;32m    316\u001b[0m \u001b[39m\u001b[39m\u001b[39m\"\"\"Open the given filename and return the workbook\u001b[39;00m\n\u001b[0;32m    317\u001b[0m \n\u001b[0;32m    318\u001b[0m \u001b[39m:param filename: the path to open or a file-like object\u001b[39;00m\n\u001b[1;32m   (...)\u001b[0m\n\u001b[0;32m    342\u001b[0m \n\u001b[0;32m    343\u001b[0m \u001b[39m\"\"\"\u001b[39;00m\n\u001b[0;32m    344\u001b[0m reader \u001b[39m=\u001b[39m ExcelReader(filename, read_only, keep_vba,\n\u001b[0;32m    345\u001b[0m                      data_only, keep_links, rich_text)\n\u001b[1;32m--> 346\u001b[0m reader\u001b[39m.\u001b[39;49mread()\n\u001b[0;32m    347\u001b[0m \u001b[39mreturn\u001b[39;00m reader\u001b[39m.\u001b[39mwb\n",
      "File \u001b[1;32mc:\\Users\\lazari\\AppData\\Local\\Programs\\Python\\Python311\\Lib\\site-packages\\openpyxl\\reader\\excel.py:301\u001b[0m, in \u001b[0;36mExcelReader.read\u001b[1;34m(self)\u001b[0m\n\u001b[0;32m    299\u001b[0m apply_stylesheet(\u001b[39mself\u001b[39m\u001b[39m.\u001b[39marchive, \u001b[39mself\u001b[39m\u001b[39m.\u001b[39mwb)\n\u001b[0;32m    300\u001b[0m action \u001b[39m=\u001b[39m \u001b[39m\"\u001b[39m\u001b[39mread worksheets\u001b[39m\u001b[39m\"\u001b[39m\n\u001b[1;32m--> 301\u001b[0m \u001b[39mself\u001b[39;49m\u001b[39m.\u001b[39;49mread_worksheets()\n\u001b[0;32m    302\u001b[0m action \u001b[39m=\u001b[39m \u001b[39m\"\u001b[39m\u001b[39massign names\u001b[39m\u001b[39m\"\u001b[39m\n\u001b[0;32m    303\u001b[0m \u001b[39mself\u001b[39m\u001b[39m.\u001b[39mparser\u001b[39m.\u001b[39massign_names()\n",
      "File \u001b[1;32mc:\\Users\\lazari\\AppData\\Local\\Programs\\Python\\Python311\\Lib\\site-packages\\openpyxl\\reader\\excel.py:237\u001b[0m, in \u001b[0;36mExcelReader.read_worksheets\u001b[1;34m(self)\u001b[0m\n\u001b[0;32m    235\u001b[0m     ws\u001b[39m.\u001b[39m_rels \u001b[39m=\u001b[39m rels\n\u001b[0;32m    236\u001b[0m     ws_parser \u001b[39m=\u001b[39m WorksheetReader(ws, fh, \u001b[39mself\u001b[39m\u001b[39m.\u001b[39mshared_strings, \u001b[39mself\u001b[39m\u001b[39m.\u001b[39mdata_only, \u001b[39mself\u001b[39m\u001b[39m.\u001b[39mrich_text)\n\u001b[1;32m--> 237\u001b[0m     ws_parser\u001b[39m.\u001b[39;49mbind_all()\n\u001b[0;32m    239\u001b[0m \u001b[39m# assign any comments to cells\u001b[39;00m\n\u001b[0;32m    240\u001b[0m \u001b[39mfor\u001b[39;00m r \u001b[39min\u001b[39;00m rels\u001b[39m.\u001b[39mfind(COMMENTS_NS):\n",
      "File \u001b[1;32mc:\\Users\\lazari\\AppData\\Local\\Programs\\Python\\Python311\\Lib\\site-packages\\openpyxl\\worksheet\\_reader.py:465\u001b[0m, in \u001b[0;36mWorksheetReader.bind_all\u001b[1;34m(self)\u001b[0m\n\u001b[0;32m    464\u001b[0m \u001b[39mdef\u001b[39;00m \u001b[39mbind_all\u001b[39m(\u001b[39mself\u001b[39m):\n\u001b[1;32m--> 465\u001b[0m     \u001b[39mself\u001b[39;49m\u001b[39m.\u001b[39;49mbind_cells()\n\u001b[0;32m    466\u001b[0m     \u001b[39mself\u001b[39m\u001b[39m.\u001b[39mbind_merged_cells()\n\u001b[0;32m    467\u001b[0m     \u001b[39mself\u001b[39m\u001b[39m.\u001b[39mbind_hyperlinks()\n",
      "File \u001b[1;32mc:\\Users\\lazari\\AppData\\Local\\Programs\\Python\\Python311\\Lib\\site-packages\\openpyxl\\worksheet\\_reader.py:368\u001b[0m, in \u001b[0;36mWorksheetReader.bind_cells\u001b[1;34m(self)\u001b[0m\n\u001b[0;32m    367\u001b[0m \u001b[39mdef\u001b[39;00m \u001b[39mbind_cells\u001b[39m(\u001b[39mself\u001b[39m):\n\u001b[1;32m--> 368\u001b[0m     \u001b[39mfor\u001b[39;00m idx, row \u001b[39min\u001b[39;00m \u001b[39mself\u001b[39m\u001b[39m.\u001b[39mparser\u001b[39m.\u001b[39mparse():\n\u001b[0;32m    369\u001b[0m         \u001b[39mfor\u001b[39;00m cell \u001b[39min\u001b[39;00m row:\n\u001b[0;32m    370\u001b[0m             style \u001b[39m=\u001b[39m \u001b[39mself\u001b[39m\u001b[39m.\u001b[39mws\u001b[39m.\u001b[39mparent\u001b[39m.\u001b[39m_cell_styles[cell[\u001b[39m'\u001b[39m\u001b[39mstyle_id\u001b[39m\u001b[39m'\u001b[39m]]\n",
      "File \u001b[1;32mc:\\Users\\lazari\\AppData\\Local\\Programs\\Python\\Python311\\Lib\\site-packages\\openpyxl\\worksheet\\_reader.py:156\u001b[0m, in \u001b[0;36mWorkSheetParser.parse\u001b[1;34m(self)\u001b[0m\n\u001b[0;32m    137\u001b[0m properties \u001b[39m=\u001b[39m {\n\u001b[0;32m    138\u001b[0m     PRINT_TAG: (\u001b[39m'\u001b[39m\u001b[39mprint_options\u001b[39m\u001b[39m'\u001b[39m, PrintOptions),\n\u001b[0;32m    139\u001b[0m     MARGINS_TAG: (\u001b[39m'\u001b[39m\u001b[39mpage_margins\u001b[39m\u001b[39m'\u001b[39m, PageMargins),\n\u001b[1;32m   (...)\u001b[0m\n\u001b[0;32m    151\u001b[0m \n\u001b[0;32m    152\u001b[0m }\n\u001b[0;32m    154\u001b[0m it \u001b[39m=\u001b[39m iterparse(\u001b[39mself\u001b[39m\u001b[39m.\u001b[39msource) \u001b[39m# add a finaliser to close the source when this becomes possible\u001b[39;00m\n\u001b[1;32m--> 156\u001b[0m \u001b[39mfor\u001b[39;00m _, element \u001b[39min\u001b[39;00m it:\n\u001b[0;32m    157\u001b[0m     tag_name \u001b[39m=\u001b[39m element\u001b[39m.\u001b[39mtag\n\u001b[0;32m    158\u001b[0m     \u001b[39mif\u001b[39;00m tag_name \u001b[39min\u001b[39;00m dispatcher:\n",
      "File \u001b[1;32mc:\\Users\\lazari\\AppData\\Local\\Programs\\Python\\Python311\\Lib\\xml\\etree\\ElementTree.py:1251\u001b[0m, in \u001b[0;36miterparse.<locals>.iterator\u001b[1;34m(source)\u001b[0m\n\u001b[0;32m   1249\u001b[0m \u001b[39myield from\u001b[39;00m pullparser\u001b[39m.\u001b[39mread_events()\n\u001b[0;32m   1250\u001b[0m \u001b[39m# load event buffer\u001b[39;00m\n\u001b[1;32m-> 1251\u001b[0m data \u001b[39m=\u001b[39m source\u001b[39m.\u001b[39;49mread(\u001b[39m16\u001b[39;49m \u001b[39m*\u001b[39;49m \u001b[39m1024\u001b[39;49m)\n\u001b[0;32m   1252\u001b[0m \u001b[39mif\u001b[39;00m \u001b[39mnot\u001b[39;00m data:\n\u001b[0;32m   1253\u001b[0m     \u001b[39mbreak\u001b[39;00m\n",
      "File \u001b[1;32mc:\\Users\\lazari\\AppData\\Local\\Programs\\Python\\Python311\\Lib\\zipfile.py:951\u001b[0m, in \u001b[0;36mZipExtFile.read\u001b[1;34m(self, n)\u001b[0m\n\u001b[0;32m    949\u001b[0m \u001b[39mself\u001b[39m\u001b[39m.\u001b[39m_offset \u001b[39m=\u001b[39m \u001b[39m0\u001b[39m\n\u001b[0;32m    950\u001b[0m \u001b[39mwhile\u001b[39;00m n \u001b[39m>\u001b[39m \u001b[39m0\u001b[39m \u001b[39mand\u001b[39;00m \u001b[39mnot\u001b[39;00m \u001b[39mself\u001b[39m\u001b[39m.\u001b[39m_eof:\n\u001b[1;32m--> 951\u001b[0m     data \u001b[39m=\u001b[39m \u001b[39mself\u001b[39;49m\u001b[39m.\u001b[39;49m_read1(n)\n\u001b[0;32m    952\u001b[0m     \u001b[39mif\u001b[39;00m n \u001b[39m<\u001b[39m \u001b[39mlen\u001b[39m(data):\n\u001b[0;32m    953\u001b[0m         \u001b[39mself\u001b[39m\u001b[39m.\u001b[39m_readbuffer \u001b[39m=\u001b[39m data\n",
      "File \u001b[1;32mc:\\Users\\lazari\\AppData\\Local\\Programs\\Python\\Python311\\Lib\\zipfile.py:1027\u001b[0m, in \u001b[0;36mZipExtFile._read1\u001b[1;34m(self, n)\u001b[0m\n\u001b[0;32m   1025\u001b[0m \u001b[39melif\u001b[39;00m \u001b[39mself\u001b[39m\u001b[39m.\u001b[39m_compress_type \u001b[39m==\u001b[39m ZIP_DEFLATED:\n\u001b[0;32m   1026\u001b[0m     n \u001b[39m=\u001b[39m \u001b[39mmax\u001b[39m(n, \u001b[39mself\u001b[39m\u001b[39m.\u001b[39mMIN_READ_SIZE)\n\u001b[1;32m-> 1027\u001b[0m     data \u001b[39m=\u001b[39m \u001b[39mself\u001b[39;49m\u001b[39m.\u001b[39;49m_decompressor\u001b[39m.\u001b[39;49mdecompress(data, n)\n\u001b[0;32m   1028\u001b[0m     \u001b[39mself\u001b[39m\u001b[39m.\u001b[39m_eof \u001b[39m=\u001b[39m (\u001b[39mself\u001b[39m\u001b[39m.\u001b[39m_decompressor\u001b[39m.\u001b[39meof \u001b[39mor\u001b[39;00m\n\u001b[0;32m   1029\u001b[0m                  \u001b[39mself\u001b[39m\u001b[39m.\u001b[39m_compress_left \u001b[39m<\u001b[39m\u001b[39m=\u001b[39m \u001b[39m0\u001b[39m \u001b[39mand\u001b[39;00m\n\u001b[0;32m   1030\u001b[0m                  \u001b[39mnot\u001b[39;00m \u001b[39mself\u001b[39m\u001b[39m.\u001b[39m_decompressor\u001b[39m.\u001b[39munconsumed_tail)\n\u001b[0;32m   1031\u001b[0m     \u001b[39mif\u001b[39;00m \u001b[39mself\u001b[39m\u001b[39m.\u001b[39m_eof:\n",
      "\u001b[1;31mKeyboardInterrupt\u001b[0m: "
     ]
    }
   ],
   "source": [
    "import openpyxl as xl\n",
    "\n",
    "workbook = xl.load_workbook(filename=\"C:\\\\Poso\\\\Nokia\\\\LTE_tabele\\\\LTE_podaci_01_02_2023.xlsx\", data_only=True)\n",
    "sheet = workbook.active"
   ]
  },
  {
   "cell_type": "code",
   "execution_count": null,
   "metadata": {},
   "outputs": [],
   "source": [
    "import re\n",
    "code = 'KVL89'\n",
    "loc_code = code[:2]\n",
    "num_code = re.findall(r'\\d+', code)[0]\n",
    "\n",
    "relevant_rows = []\n",
    "enb_col = 1 \n",
    "tac_col = 0\n",
    "lncell_cols=[]\n",
    "root_cols=[]\n",
    "trace_cols=[]\n",
    "ph_cols=[]\n",
    "for cell in sheet['A']:\n",
    "    if cell.value is not None and len(cell.value) > 2 and len(re.findall(r'\\d+', cell.value)) > 0:\n",
    "        cell_loc_code = cell.value[:2]\n",
    "        cell_num_code = re.findall(r'\\d+', cell.value)[0]\n",
    "        if cell_loc_code == loc_code and cell_num_code == num_code:\n",
    "            relevant_rows.append(cell.row)\n",
    "\n",
    "for cell in sheet[1]:\n",
    "    if cell.value is not None:\n",
    "        if 'LNcell ID ' in cell.value:\n",
    "            lncell_cols.append(cell.column-1)\n",
    "        elif 'CellId' in cell.value:\n",
    "            trace_cols.append(cell.column-1)\n",
    "        elif 'TAC' == cell.value:\n",
    "            tac_col = cell.column-1\n",
    "        elif len(cell.value) == 4 and 'PCI' in cell.value:\n",
    "            ph_cols.append(cell.column-1)\n",
    "        elif 'rachRootSequence' in cell.value:\n",
    "            root_cols.append(cell.column-1)\n"
   ]
  },
  {
   "cell_type": "code",
   "execution_count": null,
   "metadata": {},
   "outputs": [],
   "source": [
    "tac = ''\n",
    "new_id = ''\n",
    "LNcell_ids = {}\n",
    "rootSeqCodes = {}\n",
    "cell_ids = {}\n",
    "PHcell_ids = {}\n",
    "\n",
    "for row in relevant_rows:\n",
    "    tac = str(sheet[row][tac_col].value)\n",
    "    new_id = str(sheet[row][enb_col].value)\n",
    "\n",
    "    c = sheet[row][0].value\n",
    "    LNcell_ids[c] = []\n",
    "    rootSeqCodes[c] = []\n",
    "    cell_ids[c] = []\n",
    "    PHcell_ids[c] = []\n",
    "\n",
    "    for col in lncell_cols:\n",
    "        if sheet[row][col].value is not None:\n",
    "            LNcell_ids[c].append(str(sheet[row][col].value))\n",
    "    for col in root_cols:\n",
    "        if sheet[row][col].value is not None:\n",
    "            rootSeqCodes[c].append(str(sheet[row][col].value))\n",
    "    for col in trace_cols:\n",
    "        if sheet[row][col].value is not None:\n",
    "            cell_ids[c].append(str(sheet[row][col].value))\n",
    "    for col in ph_cols:\n",
    "        if sheet[row][col].value is not None:\n",
    "            PHcell_ids[c].append(str(sheet[row][col].value))"
   ]
  },
  {
   "cell_type": "code",
   "execution_count": null,
   "metadata": {},
   "outputs": [
    {
     "data": {
      "text/plain": [
       "30001"
      ]
     },
     "execution_count": 14,
     "metadata": {},
     "output_type": "execute_result"
    }
   ],
   "source": [
    "sheet[7515][tac_col-1].value"
   ]
  },
  {
   "cell_type": "code",
   "execution_count": 18,
   "metadata": {},
   "outputs": [],
   "source": [
    "import openpyxl as xl\n",
    "import re\n",
    "\n",
    "workbook = xl.load_workbook(filename=\"C:\\\\Poso\\\\Nokia\\\\IP_tabele\\\\98NSN ALL IP i LTE  Tabela ver14.0.xlsm\", data_only=True, read_only=True)\n",
    "sheet = workbook.active"
   ]
  },
  {
   "cell_type": "code",
   "execution_count": 23,
   "metadata": {},
   "outputs": [
    {
     "name": "stdout",
     "output_type": "stream",
     "text": [
      "KV89_Abis_2G_SRAN\n",
      "15151\n",
      "KVO89_S1_SRAN\n",
      "15154\n",
      "KV89_KVO89_OAM_SRAN\n",
      "15155\n",
      "KVO89_Sync_SRAN\n",
      "15156\n"
     ]
    }
   ],
   "source": [
    "relevant_rows = []\n",
    "\n",
    "address_space = []\n",
    "\n",
    "ip_int_column = 34\n",
    "code = 'KVL89'\n",
    "loc_code = code[:2]\n",
    "num_code = re.findall(r'\\d+', code)[0]\n",
    "\n",
    "for row in sheet.rows:\n",
    "    cell = row[ip_int_column]\n",
    "    if cell.value is not None and type(cell.value) is str and len(cell.value) > 2 and len(re.findall(r'\\d+', cell.value)) > 0:\n",
    "        cell_loc_code = cell.value[:2]\n",
    "        cell_num_code = re.findall(r'\\d+', cell.value)[0]\n",
    "        if cell_loc_code == loc_code and cell_num_code == num_code:\n",
    "            relevant_rows.append(cell.row)\n",
    "            print(cell.value)\n",
    "            print(cell.row)\n"
   ]
  },
  {
   "cell_type": "code",
   "execution_count": 25,
   "metadata": {},
   "outputs": [],
   "source": [
    "\n",
    "address_space = []\n",
    "for row in relevant_rows:\n",
    "    ip = sheet[row][ip_int_column+1].value.split('/')[0]\n",
    "    vlan = sheet[row][ip_int_column+2].value\n",
    "    octets = ip.split('.')\n",
    "    octets[-1] = str(int(octets[-1])-1)\n",
    "    gateway = '.'.join(octets)\n",
    "    address_space.append([ip,gateway,vlan])"
   ]
  }
 ],
 "metadata": {
  "kernelspec": {
   "display_name": "Python 3",
   "language": "python",
   "name": "python3"
  },
  "language_info": {
   "codemirror_mode": {
    "name": "ipython",
    "version": 3
   },
   "file_extension": ".py",
   "mimetype": "text/x-python",
   "name": "python",
   "nbconvert_exporter": "python",
   "pygments_lexer": "ipython3",
   "version": "3.11.1"
  },
  "orig_nbformat": 4,
  "vscode": {
   "interpreter": {
    "hash": "e0c09b2be4576e7e5010820f6518973c78eff7be6c12f1891da6f15927bd99e0"
   }
  }
 },
 "nbformat": 4,
 "nbformat_minor": 2
}
